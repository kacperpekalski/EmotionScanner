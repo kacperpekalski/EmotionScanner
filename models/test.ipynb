{
 "cells": [
  {
   "cell_type": "code",
   "id": "initial_id",
   "metadata": {
    "collapsed": true,
    "ExecuteTime": {
     "end_time": "2025-01-04T11:00:12.126672Z",
     "start_time": "2025-01-04T11:00:12.117820Z"
    }
   },
   "source": [
    "from tensorflow.keras.models import load_model\n",
    "import numpy as np\n",
    "from tensorflow.keras.preprocessing.image import load_img, img_to_array\n",
    "import os\n",
    "from PIL import Image\n",
    "import cv2"
   ],
   "outputs": [],
   "execution_count": 5
  },
  {
   "metadata": {
    "ExecuteTime": {
     "end_time": "2025-01-04T11:00:17.508286Z",
     "start_time": "2025-01-04T11:00:14.300326Z"
    }
   },
   "cell_type": "code",
   "source": [
    "# Load the trained model\n",
    "\n",
    "model = load_model(\"\")"
   ],
   "id": "6115cb2019c5275b",
   "outputs": [
    {
     "name": "stderr",
     "output_type": "stream",
     "text": [
      "WARNING:absl:Compiled the loaded model, but the compiled metrics have yet to be built. `model.compile_metrics` will be empty until you train or evaluate the model.\n"
     ]
    }
   ],
   "execution_count": 6
  },
  {
   "metadata": {
    "ExecuteTime": {
     "end_time": "2025-01-04T11:00:18.744209Z",
     "start_time": "2025-01-04T11:00:18.731390Z"
    }
   },
   "cell_type": "code",
   "source": [
    "def preprocess_image(image_path, target_size=(299, 299), color_mode='grayscale'):\n",
    "    \"\"\"\n",
    "    Przetwarza obraz wejściowy, aby był gotowy do predykcji przez model.\n",
    "\n",
    "    Args:\n",
    "        image_path (str): Ścieżka do obrazu.\n",
    "        target_size (tuple): Rozmiar obrazu wymagany przez model (np. 299x299 dla InceptionV3).\n",
    "        color_mode (str): Tryb koloru ('grayscale' dla modelu z obrazami w odcieniach szarości).\n",
    "\n",
    "    Returns:\n",
    "        np.ndarray: Tensor obrazu gotowy do predykcji.\n",
    "    \"\"\"\n",
    "    try:\n",
    "        # Załaduj obraz i zmień jego rozmiar\n",
    "        image = load_img(image_path, target_size=target_size, color_mode=color_mode)\n",
    "\n",
    "        # Konwersja obrazu na tablicę NumPy\n",
    "        image_array = img_to_array(image)\n",
    "\n",
    "        # Dodaj dodatkowy wymiar (batch dimension)\n",
    "        image_array = np.expand_dims(image_array, axis=0)\n",
    "\n",
    "        # Jeśli obraz jest w odcieniach szarości, nie używamy preprocess_input\n",
    "        image_array = image_array / 255.0  # Skalowanie pikseli do zakresu [0, 1]\n",
    "\n",
    "        return image_array\n",
    "    except Exception as e:\n",
    "        print(f\"Błąd podczas przetwarzania obrazu: {e}\")\n",
    "        return None\n"
   ],
   "id": "2ce242f0c2926ea8",
   "outputs": [],
   "execution_count": 7
  },
  {
   "metadata": {
    "ExecuteTime": {
     "end_time": "2025-01-04T11:00:24.112864Z",
     "start_time": "2025-01-04T11:00:19.944806Z"
    }
   },
   "cell_type": "code",
   "source": [
    "\n",
    "# Przetwarzanie obrazu wejściowego\n",
    "image_path = \"test_data/testfile.jpg\"\n",
    "\n",
    "image_array = preprocess_image(image_path)\n",
    "\n",
    "if image_array is not None:\n",
    "    # Predykcja klasy obrazu\n",
    "    prediction = model.predict(image_array)\n",
    "\n",
    "    # Pobranie indeksu klasy o najwyższym prawdopodobieństwie\n",
    "    predicted_class = np.argmax(prediction)\n",
    "\n",
    "    # Wyświetlenie wyniku\n",
    "    print(f\"Przewidziana klasa: {predicted_class}\")"
   ],
   "id": "334a6f4820595c2e",
   "outputs": [
    {
     "name": "stdout",
     "output_type": "stream",
     "text": [
      "\u001B[1m1/1\u001B[0m \u001B[32m━━━━━━━━━━━━━━━━━━━━\u001B[0m\u001B[37m\u001B[0m \u001B[1m4s\u001B[0m 4s/step\n",
      "Przewidziana klasa: 2\n"
     ]
    }
   ],
   "execution_count": 8
  },
  {
   "metadata": {
    "ExecuteTime": {
     "end_time": "2025-01-04T11:05:19.273485Z",
     "start_time": "2025-01-04T11:05:18.906756Z"
    }
   },
   "cell_type": "code",
   "source": [
    "# Load neutral.jpg\n",
    "image_path = \"test_data/neutral.jpg\"\n",
    "\n",
    "image_array = preprocess_image(image_path)\n",
    "\n",
    "if image_array is not None:\n",
    "    # Predykcja klasy obrazu\n",
    "    prediction = model.predict(image_array)\n",
    "\n",
    "    # Pobranie indeksu klasy o najwyższym prawdopodobieństwie\n",
    "    predicted_class = np.argmax(prediction)\n",
    "\n",
    "    # Wyświetlenie wyniku\n",
    "    print(f\"Przewidziana klasa: {predicted_class}\")"
   ],
   "id": "21476b982b7df044",
   "outputs": [
    {
     "name": "stdout",
     "output_type": "stream",
     "text": [
      "\u001B[1m1/1\u001B[0m \u001B[32m━━━━━━━━━━━━━━━━━━━━\u001B[0m\u001B[37m\u001B[0m \u001B[1m0s\u001B[0m 255ms/step\n",
      "Przewidziana klasa: 1\n"
     ]
    }
   ],
   "execution_count": 10
  },
  {
   "metadata": {
    "ExecuteTime": {
     "end_time": "2025-01-04T11:10:51.555959Z",
     "start_time": "2025-01-04T11:10:51.547900Z"
    }
   },
   "cell_type": "code",
   "source": "classes = ['neutral', 'happy', 'sad']",
   "id": "2a534408086824a9",
   "outputs": [],
   "execution_count": 18
  },
  {
   "metadata": {
    "ExecuteTime": {
     "end_time": "2025-01-04T11:06:54.212442Z",
     "start_time": "2025-01-04T11:06:53.914593Z"
    }
   },
   "cell_type": "code",
   "source": [
    "# Load happy_man.jpg\n",
    "\n",
    "image_path = \"test_data/happy_man.jpg\"\n",
    "\n",
    "image_array = preprocess_image(image_path)\n",
    "\n",
    "if image_array is not None:\n",
    "    # Predykcja klasy obrazu\n",
    "    prediction = model.predict(image_array)\n",
    "\n",
    "    # Pobranie indeksu klasy o najwyższym prawdopodobieństwie\n",
    "    predicted_class = np.argmax(prediction)\n",
    "\n",
    "    # Wyświetlenie wyniku\n",
    "    print(f\"Przewidziana klasa: {predicted_class}\")"
   ],
   "id": "ee11a03778d077a4",
   "outputs": [
    {
     "name": "stdout",
     "output_type": "stream",
     "text": [
      "\u001B[1m1/1\u001B[0m \u001B[32m━━━━━━━━━━━━━━━━━━━━\u001B[0m\u001B[37m\u001B[0m \u001B[1m0s\u001B[0m 207ms/step\n",
      "Przewidziana klasa: 1\n"
     ]
    }
   ],
   "execution_count": 12
  },
  {
   "metadata": {
    "ExecuteTime": {
     "end_time": "2025-01-04T11:07:31.389516Z",
     "start_time": "2025-01-04T11:07:30.711593Z"
    }
   },
   "cell_type": "code",
   "source": [
    "# Load happy_man.jpg\n",
    "\n",
    "image_path = \"test_data/happy_man_2.jpg\"\n",
    "\n",
    "image_array = preprocess_image(image_path)\n",
    "\n",
    "if image_array is not None:\n",
    "    # Predykcja klasy obrazu\n",
    "    prediction = model.predict(image_array)\n",
    "\n",
    "    # Pobranie indeksu klasy o najwyższym prawdopodobieństwie\n",
    "    predicted_class = np.argmax(prediction)\n",
    "\n",
    "    # Wyświetlenie wyniku\n",
    "    print(f\"Przewidziana klasa: {predicted_class}\")"
   ],
   "id": "6d04b995ce280f3b",
   "outputs": [
    {
     "name": "stdout",
     "output_type": "stream",
     "text": [
      "\u001B[1m1/1\u001B[0m \u001B[32m━━━━━━━━━━━━━━━━━━━━\u001B[0m\u001B[37m\u001B[0m \u001B[1m0s\u001B[0m 426ms/step\n",
      "Przewidziana klasa: 1\n"
     ]
    }
   ],
   "execution_count": 13
  },
  {
   "metadata": {
    "ExecuteTime": {
     "end_time": "2025-01-04T11:09:24.529030Z",
     "start_time": "2025-01-04T11:09:23.908967Z"
    }
   },
   "cell_type": "code",
   "source": [
    "# Load happy_man.jpg\n",
    "\n",
    "image_path = \"test_data/sad_1.jpg\"\n",
    "\n",
    "image_array = preprocess_image(image_path)\n",
    "\n",
    "if image_array is not None:\n",
    "    # Predykcja klasy obrazu\n",
    "    prediction = model.predict(image_array)\n",
    "\n",
    "    # Pobranie indeksu klasy o najwyższym prawdopodobieństwie\n",
    "    predicted_class = np.argmax(prediction)\n",
    "\n",
    "    # Wyświetlenie wyniku\n",
    "    print(f\"Przewidziana klasa: {predicted_class}\")"
   ],
   "id": "31e9dc9a4ffd0730",
   "outputs": [
    {
     "name": "stdout",
     "output_type": "stream",
     "text": [
      "\u001B[1m1/1\u001B[0m \u001B[32m━━━━━━━━━━━━━━━━━━━━\u001B[0m\u001B[37m\u001B[0m \u001B[1m0s\u001B[0m 417ms/step\n",
      "Przewidziana klasa: 2\n"
     ]
    }
   ],
   "execution_count": 14
  },
  {
   "metadata": {
    "ExecuteTime": {
     "end_time": "2025-01-04T11:10:26.121819Z",
     "start_time": "2025-01-04T11:10:25.580926Z"
    }
   },
   "cell_type": "code",
   "source": [
    "# Load neutral_1.jpg\n",
    "\n",
    "image_path = \"test_data/neutral_1.jpg\"\n",
    "\n",
    "image_array = preprocess_image(image_path)\n",
    "\n",
    "if image_array is not None:\n",
    "    # Predykcja klasy obrazu\n",
    "    prediction = model.predict(image_array)\n",
    "\n",
    "    # Pobranie indeksu klasy o najwyższym prawdopodobieństwie\n",
    "    predicted_class = np.argmax(prediction)\n",
    "\n",
    "    # Wyświetlenie wyniku\n",
    "    print(f\"Przewidziana klasa: {predicted_class}\")\n"
   ],
   "id": "6f1ffd3d1174a9e",
   "outputs": [
    {
     "name": "stdout",
     "output_type": "stream",
     "text": [
      "\u001B[1m1/1\u001B[0m \u001B[32m━━━━━━━━━━━━━━━━━━━━\u001B[0m\u001B[37m\u001B[0m \u001B[1m0s\u001B[0m 422ms/step\n",
      "Przewidziana klasa: 0\n"
     ]
    }
   ],
   "execution_count": 17
  },
  {
   "metadata": {
    "ExecuteTime": {
     "end_time": "2025-01-04T11:11:53.967337Z",
     "start_time": "2025-01-04T11:11:53.514212Z"
    }
   },
   "cell_type": "code",
   "source": [
    "# Load happy_1.jpg\n",
    "\n",
    "image_path = \"test_data/happy_1.jpg\"\n",
    "\n",
    "image_array = preprocess_image(image_path)\n",
    "\n",
    "if image_array is not None:\n",
    "    # Predykcja klasy obrazu\n",
    "    prediction = model.predict(image_array)\n",
    "\n",
    "    # Pobranie indeksu klasy o najwyższym prawdopodobieństwie\n",
    "    predicted_class = np.argmax(prediction)\n",
    "\n",
    "    # Wyświetlenie wyniku\n",
    "    print(f\"Przewidziana klasa: {predicted_class}\")\n",
    "    print(\"Emocja: \", classes[predicted_class])"
   ],
   "id": "c2f57e010503b0af",
   "outputs": [
    {
     "name": "stdout",
     "output_type": "stream",
     "text": [
      "\u001B[1m1/1\u001B[0m \u001B[32m━━━━━━━━━━━━━━━━━━━━\u001B[0m\u001B[37m\u001B[0m \u001B[1m0s\u001B[0m 248ms/step\n",
      "Przewidziana klasa: 0\n",
      "Emocja:  neutral\n"
     ]
    }
   ],
   "execution_count": 19
  },
  {
   "metadata": {
    "ExecuteTime": {
     "end_time": "2025-01-04T11:12:37.592517Z",
     "start_time": "2025-01-04T11:12:37.070130Z"
    }
   },
   "cell_type": "code",
   "source": [
    "# Load happy_2.jpg\n",
    "\n",
    "image_path = \"test_data/happy_2.jpg\"\n",
    "\n",
    "image_array = preprocess_image(image_path)\n",
    "\n",
    "if image_array is not None:\n",
    "    # Predykcja klasy obrazu\n",
    "    prediction = model.predict(image_array)\n",
    "\n",
    "    # Pobranie indeksu klasy o najwyższym prawdopodobieństwie\n",
    "    predicted_class = np.argmax(prediction)\n",
    "\n",
    "    # Wyświetlenie wyniku\n",
    "    print(f\"Przewidziana klasa: {predicted_class}\")\n",
    "    print(\"Emocja: \", classes[predicted_class])"
   ],
   "id": "3817306347f8c942",
   "outputs": [
    {
     "name": "stdout",
     "output_type": "stream",
     "text": [
      "\u001B[1m1/1\u001B[0m \u001B[32m━━━━━━━━━━━━━━━━━━━━\u001B[0m\u001B[37m\u001B[0m \u001B[1m0s\u001B[0m 256ms/step\n",
      "Przewidziana klasa: 0\n",
      "Emocja:  neutral\n"
     ]
    }
   ],
   "execution_count": 20
  },
  {
   "metadata": {
    "ExecuteTime": {
     "end_time": "2025-01-04T11:13:19.894323Z",
     "start_time": "2025-01-04T11:13:19.878789Z"
    }
   },
   "cell_type": "code",
   "source": "classes = ['happy', 'neutral', 'sad']",
   "id": "6c29239b95119058",
   "outputs": [],
   "execution_count": 21
  },
  {
   "metadata": {
    "ExecuteTime": {
     "end_time": "2025-01-04T11:13:40.137319Z",
     "start_time": "2025-01-04T11:13:39.063986Z"
    }
   },
   "cell_type": "code",
   "source": [
    "# Load happy_2.jpg\n",
    "\n",
    "image_path = \"test_data/happy_2.jpg\"\n",
    "\n",
    "image_array = preprocess_image(image_path)\n",
    "\n",
    "if image_array is not None:\n",
    "    # Predykcja klasy obrazu\n",
    "    prediction = model.predict(image_array)\n",
    "\n",
    "    # Pobranie indeksu klasy o najwyższym prawdopodobieństwie\n",
    "    predicted_class = np.argmax(prediction)\n",
    "\n",
    "    # Wyświetlenie wyniku\n",
    "    print(f\"Przewidziana klasa: {predicted_class}\")\n",
    "    print(\"Emocja: \", classes[predicted_class])"
   ],
   "id": "e71760c2a7468918",
   "outputs": [
    {
     "name": "stdout",
     "output_type": "stream",
     "text": [
      "\u001B[1m1/1\u001B[0m \u001B[32m━━━━━━━━━━━━━━━━━━━━\u001B[0m\u001B[37m\u001B[0m \u001B[1m1s\u001B[0m 884ms/step\n",
      "Przewidziana klasa: 0\n",
      "Emocja:  happy\n"
     ]
    }
   ],
   "execution_count": 23
  },
  {
   "metadata": {
    "ExecuteTime": {
     "end_time": "2025-01-04T11:15:13.292491Z",
     "start_time": "2025-01-04T11:15:12.735156Z"
    }
   },
   "cell_type": "code",
   "source": [
    "# Load sad_2.jpg\n",
    "\n",
    "image_path = \"test_data/sad_2.jpg\"\n",
    "\n",
    "image_array = preprocess_image(image_path)\n",
    "\n",
    "if image_array is not None:\n",
    "    # Predykcja klasy obrazu\n",
    "    prediction = model.predict(image_array)\n",
    "\n",
    "    # Pobranie indeksu klasy o najwyższym prawdopodobieństwie\n",
    "    predicted_class = np.argmax(prediction)\n",
    "\n",
    "    # Wyświetlenie wyniku\n",
    "    print(f\"Przewidziana klasa: {predicted_class}\")\n",
    "    print(\"Emocja: \", classes[predicted_class])"
   ],
   "id": "f80a8e39b28a8f11",
   "outputs": [
    {
     "name": "stdout",
     "output_type": "stream",
     "text": [
      "\u001B[1m1/1\u001B[0m \u001B[32m━━━━━━━━━━━━━━━━━━━━\u001B[0m\u001B[37m\u001B[0m \u001B[1m0s\u001B[0m 264ms/step\n",
      "Przewidziana klasa: 1\n",
      "Emocja:  neutral\n"
     ]
    }
   ],
   "execution_count": 24
  },
  {
   "metadata": {
    "ExecuteTime": {
     "end_time": "2025-01-04T11:16:11.343985Z",
     "start_time": "2025-01-04T11:16:10.620825Z"
    }
   },
   "cell_type": "code",
   "source": [
    "# Load happy_3.jpg\n",
    "\n",
    "image_path = \"test_data/happy_3.jpg\"\n",
    "\n",
    "image_array = preprocess_image(image_path)\n",
    "\n",
    "if image_array is not None:\n",
    "    # Predykcja klasy obrazu\n",
    "    prediction = model.predict(image_array)\n",
    "\n",
    "    # Pobranie indeksu klasy o najwyższym prawdopodobieństwie\n",
    "    predicted_class = np.argmax(prediction)\n",
    "\n",
    "    # Wyświetlenie wyniku\n",
    "    print(f\"Przewidziana klasa: {predicted_class}\")\n",
    "    print(\"Emocja: \", classes[predicted_class])"
   ],
   "id": "997ba0d13c372f2",
   "outputs": [
    {
     "name": "stdout",
     "output_type": "stream",
     "text": [
      "\u001B[1m1/1\u001B[0m \u001B[32m━━━━━━━━━━━━━━━━━━━━\u001B[0m\u001B[37m\u001B[0m \u001B[1m1s\u001B[0m 503ms/step\n",
      "Przewidziana klasa: 0\n",
      "Emocja:  happy\n"
     ]
    }
   ],
   "execution_count": 25
  },
  {
   "metadata": {},
   "cell_type": "code",
   "outputs": [],
   "execution_count": null,
   "source": "",
   "id": "224386267064bc01"
  }
 ],
 "metadata": {
  "kernelspec": {
   "display_name": "Python 3",
   "language": "python",
   "name": "python3"
  },
  "language_info": {
   "codemirror_mode": {
    "name": "ipython",
    "version": 2
   },
   "file_extension": ".py",
   "mimetype": "text/x-python",
   "name": "python",
   "nbconvert_exporter": "python",
   "pygments_lexer": "ipython2",
   "version": "2.7.6"
  }
 },
 "nbformat": 4,
 "nbformat_minor": 5
}
